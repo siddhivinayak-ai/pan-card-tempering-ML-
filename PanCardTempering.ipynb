{
 "cells": [
  {
   "cell_type": "markdown",
   "metadata": {},
   "source": [
    "PAN Card Tempering ML Model "
   ]
  },
  {
   "cell_type": "code",
   "execution_count": null,
   "metadata": {},
   "outputs": [],
   "source": [
    "from skimage.metrics import structural_similarity\n",
    "import imutils\n",
    "import cv2\n",
    "import PIL import Image\n",
    "import requests"
   ]
  },
  {
   "cell_type": "code",
   "execution_count": null,
   "metadata": {},
   "outputs": [],
   "source": [
    "!mkdir pan_card_tempering\n",
    "!mkdir pan_card_tempering/image"
   ]
  },
  {
   "cell_type": "code",
   "execution_count": null,
   "metadata": {},
   "outputs": [],
   "source": [
    "original =Image.open(requests.get(\"httpsL//www.thestatesman.com/wp-content/uploads/2019/07/pan-card.jpg\", stream=True).raw)\n",
    "tempered =Image.open(requests.get(\"httpsL//assets.cleartex-cdn.com/s/img/20170526124335/Pan4\", stream=True).raw)"
   ]
  },
  {
   "cell_type": "code",
   "execution_count": null,
   "metadata": {},
   "outputs": [],
   "source": [
    "print(\"Original Image format : \", original.format)\n",
    "print(\"Tempered Image format : \", tempered.format)"
   ]
  },
  {
   "cell_type": "code",
   "execution_count": null,
   "metadata": {},
   "outputs": [],
   "source": [
    "print(\"Original Image size : \", original.size)\n",
    "print(\"Tempered Image size : \", tempered.size)"
   ]
  },
  {
   "cell_type": "code",
   "execution_count": null,
   "metadata": {},
   "outputs": [],
   "source": [
    "original = original.resize((250,160))\n",
    "print(original.size)\n",
    "original.save(\"pan_card_tempering/image/original.png\")\n",
    "\n",
    "tempered = tempered.resize((250,160))\n",
    "print(tempered.size)\n",
    "tempered.save(\"pan_card_tempering/image/tempered.png\")"
   ]
  },
  {
   "cell_type": "code",
   "execution_count": null,
   "metadata": {},
   "outputs": [],
   "source": [
    "original"
   ]
  },
  {
   "cell_type": "code",
   "execution_count": null,
   "metadata": {},
   "outputs": [],
   "source": [
    "tempered    "
   ]
  },
  {
   "cell_type": "code",
   "execution_count": null,
   "metadata": {},
   "outputs": [],
   "source": [
    "# load the two input images\n",
    "original = cv2.imread(\"pan_card_tempering/image/original.png\")\n",
    "tempered = cv2.imread(\"pan_card_tempering/image/tempered.png\")"
   ]
  },
  {
   "cell_type": "code",
   "execution_count": null,
   "metadata": {},
   "outputs": [],
   "source": [
    "# convert this images to grayscale\n",
    "original_gray = cv2.cvtColor(original, cv2.COLOR_BGR2GRAY)\n",
    "tempered_gray = cv2.cvtColor(tempered, cv2.COLOR_BGR2GRAY)"
   ]
  },
  {
   "cell_type": "code",
   "execution_count": null,
   "metadata": {},
   "outputs": [],
   "source": [
    "# compute the Stuctural Similarity Index(SSMI) between the two images, ensuring that the difference image is returned\n",
    "(score, diff) = structural_similarity(original_gray, tempered_gray, full=True)\n",
    "diff = (diff*255).astype(\"uint8\")\n",
    "print(\"SSIM: {}\".format(score))"
   ]
  },
  {
   "cell_type": "code",
   "execution_count": null,
   "metadata": {},
   "outputs": [],
   "source": [
    "# calculating threshold and contours\n",
    "thresh = cv2.threshold(diff, 0, 255, cv2.THRESH_BINARY_INV | cv2.THRESH_OTSU)[1]\n",
    "cnts = cv2.findContours(thresh.copy(), cv2.RETR_EXTERNAL,cv2.CHAIN_APROX_SIMPLE)\n",
    "cnts = imutils.grab_contours(cnts)"
   ]
  },
  {
   "cell_type": "code",
   "execution_count": null,
   "metadata": {},
   "outputs": [],
   "source": [
    "# loop over the contours\n",
    "for c in cnts:\n",
    "  # applying contours on image\n",
    "  (x,y,w,h) = cv2.boundingRect(c)\n",
    "  cv2.rectangle(original, (x, y),(x + w, y + h), (0, 0, 255), 2)\n",
    "  cv2.rectangle(tempered, (x, y),(x + w, y + h), (0, 0, 255), 2)"
   ]
  },
  {
   "cell_type": "code",
   "execution_count": null,
   "metadata": {},
   "outputs": [],
   "source": [
    "# Display Original image with contours\n",
    "print(\"Original Format Image\")\n",
    "Image.fromarray(original)"
   ]
  },
  {
   "cell_type": "code",
   "execution_count": null,
   "metadata": {},
   "outputs": [],
   "source": [
    "# Display Tempered image with contours\n",
    "print(\"Original Format Image\")\n",
    "Image.fromarray(tempered)"
   ]
  },
  {
   "cell_type": "code",
   "execution_count": null,
   "metadata": {},
   "outputs": [],
   "source": [
    "# Display difference image with black\n",
    "print(\"Original Format Image\")\n",
    "Image.fromarray(diff)"
   ]
  },
  {
   "cell_type": "code",
   "execution_count": null,
   "metadata": {},
   "outputs": [],
   "source": [
    "# Display threshold image with white\n",
    "print(\"Original Format Image\")\n",
    "Image.fromarray(thresh)"
   ]
  },
  {
   "cell_type": "markdown",
   "metadata": {},
   "source": [
    "This project can be used in different organizations where customer or users need to provide any kind of id in order to get themselves verified.The organization can use this project to find out whether the ID is original or fake. Similarly this can be used for any type of ID like adhar , voterID, etc"
   ]
  }
 ],
 "metadata": {
  "language_info": {
   "name": "python"
  },
  "orig_nbformat": 4
 },
 "nbformat": 4,
 "nbformat_minor": 2
}
